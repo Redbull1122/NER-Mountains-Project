{
 "cells": [
  {
   "cell_type": "code",
   "id": "initial_id",
   "metadata": {
    "collapsed": true,
    "ExecuteTime": {
     "end_time": "2024-12-08T19:23:00.190710Z",
     "start_time": "2024-12-08T19:22:55.900883Z"
    }
   },
   "source": [
    "import os\n",
    "import spacy\n",
    "import torch\n",
    "import numpy as np\n",
    "import pandas as pd\n",
    "import matplotlib.pyplot as plt\n",
    "from tqdm import tqdm\n",
    "from sklearn.model_selection import StratifiedKFold\n",
    "from gensim.models import Word2Vec\n",
    "\n",
    "# Завантаження токенізатора SpaCy\n",
    "nlp = spacy.load('en_core_web_sm', disable=['ner'])\n",
    "# Функція токенізації тексту\n",
    "def tokenize(texts, markers, tokenizer):\n",
    "    result_tokens, result_labels = [], []\n",
    "\n",
    "    for text, loc_markers in zip(texts, markers):\n",
    "        doc = tokenizer(text)\n",
    "        tokens = [token.text for token in doc]\n",
    "        labels = ['O'] * len(tokens)\n",
    "\n",
    "        for start, end in loc_markers:\n",
    "            for i, token in enumerate(doc):\n",
    "                if start <= token.idx < end:\n",
    "                    labels[i] = 'B-LOC' if token.idx == start else 'I-LOC'\n",
    "\n",
    "        result_tokens.append(tokens)\n",
    "        result_labels.append(labels)\n",
    "    \n",
    "    return result_tokens, result_labels\n",
    "\n"
   ],
   "outputs": [],
   "execution_count": 1
  },
  {
   "metadata": {
    "ExecuteTime": {
     "end_time": "2024-12-08T19:23:05.995835Z",
     "start_time": "2024-12-08T19:23:05.738619Z"
    }
   },
   "cell_type": "code",
   "source": [
    "# Використовуємо %run для виконання іншого блокнота\n",
    "%run data_loading_and_preprocessing.ipynb\n"
   ],
   "id": "af82cd6a93d2354b",
   "outputs": [
    {
     "name": "stdout",
     "output_type": "stream",
     "text": [
      "Feeling the tranquility and serenity of the Andes Mountains #naturelover #mountainscape\n",
      "['Andes']\n"
     ]
    },
    {
     "data": {
      "text/plain": [
       "<Figure size 640x480 with 1 Axes>"
      ],
      "image/png": "[encoded data removed]"
     },
     "metadata": {},
     "output_type": "display_data"
    },
    {
     "name": "stdout",
     "output_type": "stream",
     "text": [
      "Mountains       82\n",
      "Mount           45\n",
      "Alps            34\n",
      "Andes           23\n",
      "Himalayas       19\n",
      "Taurus          12\n",
      "Range           12\n",
      "Rhodope          9\n",
      "Everest          9\n",
      "Rocky            8\n",
      "Appalachian      8\n",
      "Fuji             7\n",
      "Shan             7\n",
      "Kilimanjaro      7\n",
      "Scandinavian     7\n",
      "Rainier          5\n",
      "Sierra           5\n",
      "Olympus          5\n",
      "Denali           5\n",
      "Kunlun           5\n",
      "Dividing         4\n",
      "Atlas            4\n",
      "Patagonian       4\n",
      "Drakensberg      4\n",
      "Great            4\n",
      "Brooks           4\n",
      "Carpathian       4\n",
      "Tien             4\n",
      "Blue             4\n",
      "Cascade          4\n",
      "Ridge            4\n",
      "Tatra            4\n",
      "Tian             3\n",
      "Cook             3\n",
      "Apennine         3\n",
      "Dolomites        3\n",
      "Ural             3\n",
      "Elbrus           3\n",
      "mountains        3\n",
      "Nevada           3\n",
      "Rwenzori         3\n",
      "Kenya            2\n",
      "Columbia         2\n",
      "St.              2\n",
      "Occidental       2\n",
      "Madre            2\n",
      "Helens           2\n",
      "Icefield         2\n",
      "K2               1\n",
      "Dolomite         1\n",
      "Logan            1\n",
      "Eiger            1\n",
      "Name: count, dtype: int64\n"
     ]
    }
   ],
   "execution_count": 2
  },
  {
   "metadata": {
    "ExecuteTime": {
     "end_time": "2024-12-08T19:23:10.824680Z",
     "start_time": "2024-12-08T19:23:10.818984Z"
    }
   },
   "cell_type": "code",
   "source": [
    "# Функція обробки датасету\n",
    "def process_dataset(dataset, output_path, n_splits=100):\n",
    "    if os.path.exists(output_path):\n",
    "        # Якщо файл існує, зчитуємо його для додавання нових даних\n",
    "        existing_data = pd.read_csv(output_path)\n",
    "    else:\n",
    "        existing_data = pd.DataFrame()\n",
    "\n",
    "    for split in tqdm(np.array_split(dataset, n_splits), desc=\"Processing dataset\"):\n",
    "        tokens, labels = tokenize(split['text'], split['markers'], nlp)\n",
    "        new_data = pd.DataFrame({'tokens': tokens, 'labels': labels})\n",
    "        \n",
    "        # Додаємо нові дані до існуючого\n",
    "        existing_data = pd.concat([existing_data, new_data], ignore_index=True)\n",
    "\n",
    "    # Записуємо оновлений DataFrame у CSV файл\n",
    "    existing_data.to_csv(output_path, index=False)\n",
    "\n",
    "\n"
   ],
   "id": "20d656bca7324563",
   "outputs": [],
   "execution_count": 3
  },
  {
   "metadata": {
    "ExecuteTime": {
     "end_time": "2024-12-08T19:23:38.062075Z",
     "start_time": "2024-12-08T19:23:35.625924Z"
    }
   },
   "cell_type": "code",
   "source": [
    "import warnings\n",
    "warnings.filterwarnings('ignore', category=FutureWarning)\n",
    "\n",
    "# Обробка Mountain NER Dataset\n",
    "process_dataset(mountain_df, 'save_mountain_dataset_processed.csv')\n"
   ],
   "id": "7ad944dc97c4605",
   "outputs": [
    {
     "name": "stderr",
     "output_type": "stream",
     "text": [
      "Processing dataset: 100%|██████████| 100/100 [00:02<00:00, 41.81it/s]\n"
     ]
    }
   ],
   "execution_count": 4
  },
  {
   "metadata": {
    "ExecuteTime": {
     "end_time": "2024-12-08T19:24:02.168010Z",
     "start_time": "2024-12-08T19:24:02.147328Z"
    }
   },
   "cell_type": "code",
   "source": [
    "# Завантаження обробленого датасету\n",
    "processed_dataset = pd.read_csv('save_mountain_dataset_processed.csv')\n",
    "train_dataset = processed_dataset.iloc[:1400].reset_index(drop=True)\n",
    "holdout_dataset = processed_dataset.iloc[1400:].reset_index(drop=True)\n",
    "\n"
   ],
   "id": "a38554abd889f310",
   "outputs": [],
   "execution_count": 5
  },
  {
   "metadata": {
    "ExecuteTime": {
     "end_time": "2024-12-08T19:24:09.826881Z",
     "start_time": "2024-12-08T19:24:09.812491Z"
    }
   },
   "cell_type": "code",
   "source": [
    "# Обчислення кількості гір у кожному тексті\n",
    "train_dataset['mountain_count'] = train_dataset['labels'].apply(lambda labels: np.sum(np.array(labels) == 'B-LOC'))\n",
    "\n",
    "# Створення розбивки для KFold\n",
    "train_dataset['kfold_col'] = np.clip(train_dataset['mountain_count'], a_min=None, a_max=10)\n"
   ],
   "id": "90a8fc08a82dbf32",
   "outputs": [],
   "execution_count": 6
  },
  {
   "metadata": {
    "ExecuteTime": {
     "end_time": "2024-12-08T19:24:10.525660Z",
     "start_time": "2024-12-08T19:24:10.520957Z"
    }
   },
   "cell_type": "code",
   "source": "train_dataset['kfold_col'].value_counts()\n",
   "id": "12b1ba654fc796f4",
   "outputs": [
    {
     "data": {
      "text/plain": [
       "kfold_col\n",
       "0    1400\n",
       "Name: count, dtype: int64"
      ]
     },
     "execution_count": 7,
     "metadata": {},
     "output_type": "execute_result"
    }
   ],
   "execution_count": 7
  },
  {
   "metadata": {
    "ExecuteTime": {
     "end_time": "2024-12-08T19:24:15.068744Z",
     "start_time": "2024-12-08T19:24:15.060517Z"
    }
   },
   "cell_type": "code",
   "source": [
    "from sklearn.model_selection import KFold\n",
    "\n",
    "kf = KFold(n_splits=4, shuffle=True)\n",
    "folds = list(kf.split(train_dataset))\n",
    "\n",
    "\n"
   ],
   "id": "93b8ee2edc9209c7",
   "outputs": [],
   "execution_count": 8
  },
  {
   "metadata": {
    "ExecuteTime": {
     "end_time": "2024-12-08T19:24:19.396419Z",
     "start_time": "2024-12-08T19:24:17.888884Z"
    }
   },
   "cell_type": "code",
   "source": [
    "# Токенізація для навчання\n",
    "sentences = train_dataset['tokens'].to_list()\n",
    "embeddor = Word2Vec(sentences, vector_size=300, epochs=50, workers=4)"
   ],
   "id": "ba608538a9828e91",
   "outputs": [],
   "execution_count": 9
  },
  {
   "metadata": {
    "ExecuteTime": {
     "end_time": "2024-12-08T19:24:22.075033Z",
     "start_time": "2024-12-08T19:24:21.896180Z"
    }
   },
   "cell_type": "code",
   "source": [
    "# Клас для Torch Dataset\n",
    "class TextDataset(torch.utils.data.Dataset):\n",
    "    def __init__(self, texts, labels, embeddor, max_len=128):\n",
    "        self.texts = texts\n",
    "        self.labels = labels\n",
    "        self.embeddor = embeddor.wv\n",
    "        self.max_len = max_len\n",
    "\n",
    "    def __len__(self):\n",
    "        return len(self.texts)\n",
    "\n",
    "    def __getitem__(self, idx):\n",
    "        tokens = self.texts[idx][:self.max_len]\n",
    "        labels = self.labels[idx][:self.max_len]\n",
    "        embeddings = [self.embeddor[token] if token in self.embeddor else np.zeros(self.embeddor.vector_size) for token in tokens]\n",
    "\n",
    "        return (\n",
    "            torch.tensor(embeddings, dtype=torch.float32),\n",
    "            torch.tensor(labels, dtype=torch.float32)\n",
    "        )\n",
    "\n",
    "# Візуалізація розподілу кількості токенів\n",
    "tokens_per_text = train_dataset['tokens'].apply(len)\n",
    "plt.hist(tokens_per_text, bins=100)\n",
    "plt.title('Tokens per text distribution')\n",
    "plt.show()\n"
   ],
   "id": "9548912224fab8ea",
   "outputs": [
    {
     "data": {
      "text/plain": [
       "<Figure size 640x480 with 1 Axes>"
      ],
      "image/png": "[encoded data removed]"
     },
     "metadata": {},
     "output_type": "display_data"
    }
   ],
   "execution_count": 10
  },
  {
   "metadata": {
    "ExecuteTime": {
     "end_time": "2024-12-08T19:24:25.205487Z",
     "start_time": "2024-12-08T19:24:25.199402Z"
    }
   },
   "cell_type": "code",
   "source": [
    "# Визначення максимальної довжини послідовності\n",
    "SEQ_LEN = int(np.quantile(tokens_per_text, 0.95))\n",
    "print(f\"0.95 quantile of token lengths: {SEQ_LEN}\")"
   ],
   "id": "f4aff3f8550bf118",
   "outputs": [
    {
     "name": "stdout",
     "output_type": "stream",
     "text": [
      "0.95 quantile of token lengths: 231\n"
     ]
    }
   ],
   "execution_count": 11
  },
  {
   "metadata": {},
   "cell_type": "code",
   "outputs": [],
   "execution_count": null,
   "source": "",
   "id": "a4a1d6ceb4d8532f"
  }
 ],
 "metadata": {
  "kernelspec": {
   "display_name": "Python 3",
   "language": "python",
   "name": "python3"
  },
  "language_info": {
   "codemirror_mode": {
    "name": "ipython",
    "version": 2
   },
   "file_extension": ".py",
   "mimetype": "text/x-python",
   "name": "python",
   "nbconvert_exporter": "python",
   "pygments_lexer": "ipython2",
   "version": "2.7.6"
  }
 },
 "nbformat": 4,
 "nbformat_minor": 5
}
