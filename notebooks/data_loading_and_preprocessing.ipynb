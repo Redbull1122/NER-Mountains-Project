{
 "cells": [
  {
   "cell_type": "code",
   "id": "initial_id",
   "metadata": {
    "ExecuteTime": {
     "end_time": "2024-12-07T20:56:46.019132Z",
     "start_time": "2024-12-07T20:56:45.976695Z"
    }
   },
   "source": [
    "import pandas as pd\n",
    "import matplotlib.pyplot as plt\n",
    "\n",
    "# Завантаження датасету\n",
    "mountain_df = pd.read_csv(\"../data/mountain_dataset_with_markup.csv\", converters={'marker': eval})\n",
    "\n",
    "# Просмотр первых строк данных\n",
    "mountain_df.head()\n"
   ],
   "outputs": [
    {
     "data": {
      "text/plain": [
       "                                                text      marker\n",
       "0  A visit to a science museum for hands-on learn...          []\n",
       "1  Voice surface coach set democratic time year. ...          []\n",
       "2  Parent according maybe activity activity finis...          []\n",
       "3  A visit to a sculpture garden with intriguing ...          []\n",
       "4  The Julian Alps in Slovenia offer pristine lak...  [(11, 15)]"
      ],
      "text/html": [
       "<div>\n",
       "<style scoped>\n",
       "    .dataframe tbody tr th:only-of-type {\n",
       "        vertical-align: middle;\n",
       "    }\n",
       "\n",
       "    .dataframe tbody tr th {\n",
       "        vertical-align: top;\n",
       "    }\n",
       "\n",
       "    .dataframe thead th {\n",
       "        text-align: right;\n",
       "    }\n",
       "</style>\n",
       "<table border=\"1\" class=\"dataframe\">\n",
       "  <thead>\n",
       "    <tr style=\"text-align: right;\">\n",
       "      <th></th>\n",
       "      <th>text</th>\n",
       "      <th>marker</th>\n",
       "    </tr>\n",
       "  </thead>\n",
       "  <tbody>\n",
       "    <tr>\n",
       "      <th>0</th>\n",
       "      <td>A visit to a science museum for hands-on learn...</td>\n",
       "      <td>[]</td>\n",
       "    </tr>\n",
       "    <tr>\n",
       "      <th>1</th>\n",
       "      <td>Voice surface coach set democratic time year. ...</td>\n",
       "      <td>[]</td>\n",
       "    </tr>\n",
       "    <tr>\n",
       "      <th>2</th>\n",
       "      <td>Parent according maybe activity activity finis...</td>\n",
       "      <td>[]</td>\n",
       "    </tr>\n",
       "    <tr>\n",
       "      <th>3</th>\n",
       "      <td>A visit to a sculpture garden with intriguing ...</td>\n",
       "      <td>[]</td>\n",
       "    </tr>\n",
       "    <tr>\n",
       "      <th>4</th>\n",
       "      <td>The Julian Alps in Slovenia offer pristine lak...</td>\n",
       "      <td>[(11, 15)]</td>\n",
       "    </tr>\n",
       "  </tbody>\n",
       "</table>\n",
       "</div>"
      ]
     },
     "execution_count": 3,
     "metadata": {},
     "output_type": "execute_result"
    }
   ],
   "execution_count": 3
  },
  {
   "cell_type": "code",
   "id": "3e64e7dcdc768c40",
   "metadata": {
    "ExecuteTime": {
     "end_time": "2024-12-07T20:57:06.678841Z",
     "start_time": "2024-12-07T20:57:06.670814Z"
    }
   },
   "source": "mountain_df.shape",
   "outputs": [
    {
     "data": {
      "text/plain": [
       "(1584, 2)"
      ]
     },
     "execution_count": 4,
     "metadata": {},
     "output_type": "execute_result"
    }
   ],
   "execution_count": 4
  },
  {
   "cell_type": "code",
   "id": "636313e4a4075ef5",
   "metadata": {
    "ExecuteTime": {
     "end_time": "2024-12-07T20:57:12.114595Z",
     "start_time": "2024-12-07T20:57:12.110114Z"
    }
   },
   "source": [
    "# Функція для розділення маркерів на окремі слова\n",
    "def divide_markers(text: str, markers):\n",
    "    divided_markers = []\n",
    "    \n",
    "    for start, end in markers:\n",
    "        # Отримуємо назву гори з тексту за допомогою маркерів\n",
    "        mountain_name = text[start:end]\n",
    "        # Розділяємо на окремі слова\n",
    "        words = mountain_name.split(\" \")\n",
    "\n",
    "        # Генеруємо розділені маркери для кожного слова\n",
    "        for word in words:\n",
    "            word_start = text.find(word, start)\n",
    "            word_end = word_start + len(word)\n",
    "            divided_markers.append((word_start, word_end))\n",
    "\n",
    "    return divided_markers"
   ],
   "outputs": [],
   "execution_count": 5
  },
  {
   "metadata": {
    "ExecuteTime": {
     "end_time": "2024-12-07T20:57:22.213253Z",
     "start_time": "2024-12-07T20:57:22.196562Z"
    }
   },
   "cell_type": "code",
   "source": [
    "# Додаємо нові стовпці для маркерів і кількості гір\n",
    "mountain_df['markers'] = mountain_df.apply(lambda row: divide_markers(row['text'], row['marker']), axis=1)\n",
    "mountain_df['mountain_count'] = mountain_df['markers'].apply(len)"
   ],
   "id": "2389e1d5357b3401",
   "outputs": [],
   "execution_count": 6
  },
  {
   "metadata": {
    "ExecuteTime": {
     "end_time": "2024-12-07T21:09:42.716788Z",
     "start_time": "2024-12-07T21:09:42.695586Z"
    }
   },
   "cell_type": "code",
   "source": "mountain_df.head()",
   "id": "d8151c843b20977f",
   "outputs": [
    {
     "data": {
      "text/plain": [
       "                                                text      marker     markers  \\\n",
       "0  A visit to a science museum for hands-on learn...          []          []   \n",
       "1  Voice surface coach set democratic time year. ...          []          []   \n",
       "2  Parent according maybe activity activity finis...          []          []   \n",
       "3  A visit to a sculpture garden with intriguing ...          []          []   \n",
       "4  The Julian Alps in Slovenia offer pristine lak...  [(11, 15)]  [(11, 15)]   \n",
       "\n",
       "   mountain_count  \n",
       "0               0  \n",
       "1               0  \n",
       "2               0  \n",
       "3               0  \n",
       "4               1  "
      ],
      "text/html": [
       "<div>\n",
       "<style scoped>\n",
       "    .dataframe tbody tr th:only-of-type {\n",
       "        vertical-align: middle;\n",
       "    }\n",
       "\n",
       "    .dataframe tbody tr th {\n",
       "        vertical-align: top;\n",
       "    }\n",
       "\n",
       "    .dataframe thead th {\n",
       "        text-align: right;\n",
       "    }\n",
       "</style>\n",
       "<table border=\"1\" class=\"dataframe\">\n",
       "  <thead>\n",
       "    <tr style=\"text-align: right;\">\n",
       "      <th></th>\n",
       "      <th>text</th>\n",
       "      <th>marker</th>\n",
       "      <th>markers</th>\n",
       "      <th>mountain_count</th>\n",
       "    </tr>\n",
       "  </thead>\n",
       "  <tbody>\n",
       "    <tr>\n",
       "      <th>0</th>\n",
       "      <td>A visit to a science museum for hands-on learn...</td>\n",
       "      <td>[]</td>\n",
       "      <td>[]</td>\n",
       "      <td>0</td>\n",
       "    </tr>\n",
       "    <tr>\n",
       "      <th>1</th>\n",
       "      <td>Voice surface coach set democratic time year. ...</td>\n",
       "      <td>[]</td>\n",
       "      <td>[]</td>\n",
       "      <td>0</td>\n",
       "    </tr>\n",
       "    <tr>\n",
       "      <th>2</th>\n",
       "      <td>Parent according maybe activity activity finis...</td>\n",
       "      <td>[]</td>\n",
       "      <td>[]</td>\n",
       "      <td>0</td>\n",
       "    </tr>\n",
       "    <tr>\n",
       "      <th>3</th>\n",
       "      <td>A visit to a sculpture garden with intriguing ...</td>\n",
       "      <td>[]</td>\n",
       "      <td>[]</td>\n",
       "      <td>0</td>\n",
       "    </tr>\n",
       "    <tr>\n",
       "      <th>4</th>\n",
       "      <td>The Julian Alps in Slovenia offer pristine lak...</td>\n",
       "      <td>[(11, 15)]</td>\n",
       "      <td>[(11, 15)]</td>\n",
       "      <td>1</td>\n",
       "    </tr>\n",
       "  </tbody>\n",
       "</table>\n",
       "</div>"
      ]
     },
     "execution_count": 8,
     "metadata": {},
     "output_type": "execute_result"
    }
   ],
   "execution_count": 8
  },
  {
   "metadata": {
    "ExecuteTime": {
     "end_time": "2024-12-07T21:10:38.359637Z",
     "start_time": "2024-12-07T21:10:38.342083Z"
    }
   },
   "cell_type": "code",
   "source": [
    "# Функція для отримання списку гір із тексту за маркерами\n",
    "def get_mountains(row):\n",
    "    text, loc_markers = row['text'], row['markers']\n",
    "    return [text[s:e] for s, e in loc_markers]"
   ],
   "id": "c4b7b83d93ec6117",
   "outputs": [],
   "execution_count": 9
  },
  {
   "metadata": {
    "ExecuteTime": {
     "end_time": "2024-12-07T21:11:19.309744Z",
     "start_time": "2024-12-07T21:11:19.282668Z"
    }
   },
   "cell_type": "code",
   "source": [
    "# Виведення прикладу тексту та гір\n",
    "sample_row = mountain_df[mountain_df['mountain_count'] >= 1].iloc[2]\n",
    "print(sample_row['text'])\n",
    "print(get_mountains(sample_row))\n"
   ],
   "id": "8776a5cda6fc04d8",
   "outputs": [
    {
     "name": "stdout",
     "output_type": "stream",
     "text": [
      "Feeling the tranquility and serenity of the Andes Mountains #naturelover #mountainscape\n",
      "['Andes']\n"
     ]
    }
   ],
   "execution_count": 11
  },
  {
   "metadata": {
    "ExecuteTime": {
     "end_time": "2024-12-07T21:11:30.248697Z",
     "start_time": "2024-12-07T21:11:29.549759Z"
    }
   },
   "cell_type": "code",
   "source": [
    "# Візуалізація розподілу кількості гір у датасеті\n",
    "plt.title('Mountain name count distribution in mountain_dataset')\n",
    "plt.plot(mountain_df['mountain_count'].value_counts(normalize=True))\n",
    "plt.show()"
   ],
   "id": "7df27e1ea1588e19",
   "outputs": [
    {
     "data": {
      "text/plain": [
       "<Figure size 640x480 with 1 Axes>"
      ],
      "image/png": "[encoded data removed]"
     },
     "metadata": {},
     "output_type": "display_data"
    }
   ],
   "execution_count": 12
  },
  {
   "metadata": {
    "ExecuteTime": {
     "end_time": "2024-12-07T21:12:05.908376Z",
     "start_time": "2024-12-07T21:12:05.875047Z"
    }
   },
   "cell_type": "code",
   "source": [
    "# Підрахунок кількості гір\n",
    "mountains = mountain_df.apply(get_mountains, axis=1)\n",
    "result = [mountain for sublist in mountains.to_list() for mountain in sublist]\n",
    "\n",
    "# Підрахунок частоти кожної гори\n",
    "print(pd.Series(result).value_counts())"
   ],
   "id": "e18bfd035326aea9",
   "outputs": [
    {
     "name": "stdout",
     "output_type": "stream",
     "text": [
      "Mountains       82\n",
      "Mount           45\n",
      "Alps            34\n",
      "Andes           23\n",
      "Himalayas       19\n",
      "Taurus          12\n",
      "Range           12\n",
      "Rhodope          9\n",
      "Everest          9\n",
      "Rocky            8\n",
      "Appalachian      8\n",
      "Fuji             7\n",
      "Shan             7\n",
      "Kilimanjaro      7\n",
      "Scandinavian     7\n",
      "Rainier          5\n",
      "Sierra           5\n",
      "Olympus          5\n",
      "Denali           5\n",
      "Kunlun           5\n",
      "Dividing         4\n",
      "Atlas            4\n",
      "Patagonian       4\n",
      "Drakensberg      4\n",
      "Great            4\n",
      "Brooks           4\n",
      "Carpathian       4\n",
      "Tien             4\n",
      "Blue             4\n",
      "Cascade          4\n",
      "Ridge            4\n",
      "Tatra            4\n",
      "Tian             3\n",
      "Cook             3\n",
      "Apennine         3\n",
      "Dolomites        3\n",
      "Ural             3\n",
      "Elbrus           3\n",
      "mountains        3\n",
      "Nevada           3\n",
      "Rwenzori         3\n",
      "Kenya            2\n",
      "Columbia         2\n",
      "St.              2\n",
      "Occidental       2\n",
      "Madre            2\n",
      "Helens           2\n",
      "Icefield         2\n",
      "K2               1\n",
      "Dolomite         1\n",
      "Logan            1\n",
      "Eiger            1\n",
      "Name: count, dtype: int64\n"
     ]
    }
   ],
   "execution_count": 13
  },
  {
   "metadata": {
    "ExecuteTime": {
     "end_time": "2024-12-07T21:17:57.270150Z",
     "start_time": "2024-12-07T21:17:57.246299Z"
    }
   },
   "cell_type": "code",
   "source": [
    "mountains = mountain_df.apply(get_mountains, axis=1)\n",
    "\n",
    "result = []\n",
    "for x in mountains.to_list():\n",
    "    for l in x:\n",
    "        result.append(l)\n",
    "\n",
    "pd.Series(result).value_counts()"
   ],
   "id": "1073b33fa2baac62",
   "outputs": [
    {
     "data": {
      "text/plain": [
       "Mountains       82\n",
       "Mount           45\n",
       "Alps            34\n",
       "Andes           23\n",
       "Himalayas       19\n",
       "Taurus          12\n",
       "Range           12\n",
       "Rhodope          9\n",
       "Everest          9\n",
       "Rocky            8\n",
       "Appalachian      8\n",
       "Fuji             7\n",
       "Shan             7\n",
       "Kilimanjaro      7\n",
       "Scandinavian     7\n",
       "Rainier          5\n",
       "Sierra           5\n",
       "Olympus          5\n",
       "Denali           5\n",
       "Kunlun           5\n",
       "Dividing         4\n",
       "Atlas            4\n",
       "Patagonian       4\n",
       "Drakensberg      4\n",
       "Great            4\n",
       "Brooks           4\n",
       "Carpathian       4\n",
       "Tien             4\n",
       "Blue             4\n",
       "Cascade          4\n",
       "Ridge            4\n",
       "Tatra            4\n",
       "Tian             3\n",
       "Cook             3\n",
       "Apennine         3\n",
       "Dolomites        3\n",
       "Ural             3\n",
       "Elbrus           3\n",
       "mountains        3\n",
       "Nevada           3\n",
       "Rwenzori         3\n",
       "Kenya            2\n",
       "Columbia         2\n",
       "St.              2\n",
       "Occidental       2\n",
       "Madre            2\n",
       "Helens           2\n",
       "Icefield         2\n",
       "K2               1\n",
       "Dolomite         1\n",
       "Logan            1\n",
       "Eiger            1\n",
       "Name: count, dtype: int64"
      ]
     },
     "execution_count": 14,
     "metadata": {},
     "output_type": "execute_result"
    }
   ],
   "execution_count": 14
  },
  {
   "metadata": {},
   "cell_type": "markdown",
   "source": "",
   "id": "b385a5975365adea"
  },
  {
   "metadata": {},
   "cell_type": "code",
   "outputs": [],
   "execution_count": null,
   "source": "",
   "id": "bb0a51d8b66f552f"
  }
 ],
 "metadata": {
  "kernelspec": {
   "display_name": "Python 3 (ipykernel)",
   "language": "python",
   "name": "python3"
  },
  "language_info": {
   "codemirror_mode": {
    "name": "ipython",
    "version": 3
   },
   "file_extension": ".py",
   "mimetype": "text/x-python",
   "name": "python",
   "nbconvert_exporter": "python",
   "pygments_lexer": "ipython3",
   "version": "3.10.9"
  }
 },
 "nbformat": 4,
 "nbformat_minor": 5
}
