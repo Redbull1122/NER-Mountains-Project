{
 "cells": [
  {
   "cell_type": "code",
   "id": "initial_id",
   "metadata": {
    "collapsed": true,
    "ExecuteTime": {
     "end_time": "2024-12-07T21:21:11.451132Z",
     "start_time": "2024-12-07T21:21:11.446073Z"
    }
   },
   "source": [
    "import re\n",
    "import string\n",
    "\n",
    "# Функція для попередньої обробки тексту\n",
    "def process_text(text):\n",
    "    # Видаляємо знаки пунктуації та цифри, залишаємо лише букви\n",
    "    text = re.sub(r'[^\\w\\s]', '', text)  # Видалення пунктуації\n",
    "    text = re.sub(r'\\d', '', text)       # Видалення цифр\n",
    "    text = re.sub(r'\\s+', ' ', text)      # Видалення зайвих пробілів\n",
    "    return text.lower()\n",
    "\n"
   ],
   "outputs": [],
   "execution_count": 2
  },
  {
   "metadata": {
    "ExecuteTime": {
     "end_time": "2024-12-07T21:30:12.540911Z",
     "start_time": "2024-12-07T21:30:10.706194Z"
    }
   },
   "cell_type": "code",
   "source": [
    "from sklearn.metrics import precision_score, recall_score, f1_score\n",
    "\n",
    "# Функція для оцінки моделі за метриками Precision, Recall та F1\n",
    "def metric(y_true, y_pred):\n",
    "    # Перетворення наборів текстів у списки, які можна порівнювати\n",
    "    y_true_processed = [set([process_text(s) for s in sample]) for sample in y_true]\n",
    "    y_pred_processed = [set([process_text(s) for s in sample]) for sample in y_pred]\n",
    "\n",
    "    # Генеруємо true positives, false positives та false negatives\n",
    "    y_true_flat = []\n",
    "    y_pred_flat = []\n",
    "\n",
    "    for y_true_sample, y_pred_sample in zip(y_true_processed, y_pred_processed):\n",
    "        y_true_flat.extend(list(y_true_sample))  # Перетворюємо множини у список\n",
    "        y_pred_flat.extend(list(y_pred_sample))  # Перетворюємо множини у список\n",
    "\n",
    "    # Розрахунок метрик\n",
    "    precision = precision_score(y_true_flat, y_pred_flat, average='micro')\n",
    "    recall = recall_score(y_true_flat, y_pred_flat, average='micro')\n",
    "    f1 = f1_score(y_true_flat, y_pred_flat, average='micro')\n",
    "\n",
    "    return {'precision': precision, 'recall': recall, 'f1': f1}\n"
   ],
   "id": "3368297d2fc18cc6",
   "outputs": [],
   "execution_count": 6
  },
  {
   "metadata": {},
   "cell_type": "code",
   "outputs": [],
   "execution_count": null,
   "source": "",
   "id": "2cca4799ad6e006d"
  }
 ],
 "metadata": {
  "kernelspec": {
   "display_name": "Python 3",
   "language": "python",
   "name": "python3"
  },
  "language_info": {
   "codemirror_mode": {
    "name": "ipython",
    "version": 2
   },
   "file_extension": ".py",
   "mimetype": "text/x-python",
   "name": "python",
   "nbconvert_exporter": "python",
   "pygments_lexer": "ipython2",
   "version": "2.7.6"
  }
 },
 "nbformat": 4,
 "nbformat_minor": 5
}
